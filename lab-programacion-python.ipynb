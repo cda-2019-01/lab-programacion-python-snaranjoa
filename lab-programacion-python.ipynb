{
 "cells": [
  {
   "cell_type": "code",
   "execution_count": 169,
   "metadata": {},
   "outputs": [],
   "source": [
    "import pandas\n",
    "base = pandas.read_csv(\"data.csv\", sep=\"\\t\", header=None)"
   ]
  },
  {
   "cell_type": "code",
   "execution_count": 170,
   "metadata": {},
   "outputs": [
    {
     "data": {
      "text/html": [
       "<div>\n",
       "<style scoped>\n",
       "    .dataframe tbody tr th:only-of-type {\n",
       "        vertical-align: middle;\n",
       "    }\n",
       "\n",
       "    .dataframe tbody tr th {\n",
       "        vertical-align: top;\n",
       "    }\n",
       "\n",
       "    .dataframe thead th {\n",
       "        text-align: right;\n",
       "    }\n",
       "</style>\n",
       "<table border=\"1\" class=\"dataframe\">\n",
       "  <thead>\n",
       "    <tr style=\"text-align: right;\">\n",
       "      <th></th>\n",
       "      <th>0</th>\n",
       "      <th>1</th>\n",
       "      <th>2</th>\n",
       "      <th>3</th>\n",
       "      <th>4</th>\n",
       "    </tr>\n",
       "  </thead>\n",
       "  <tbody>\n",
       "    <tr>\n",
       "      <th>0</th>\n",
       "      <td>E</td>\n",
       "      <td>1</td>\n",
       "      <td>1999-02-28</td>\n",
       "      <td>b,g,f</td>\n",
       "      <td>jjj:3,bbb:0,ddd:9,ggg:8,hhh:2</td>\n",
       "    </tr>\n",
       "    <tr>\n",
       "      <th>1</th>\n",
       "      <td>A</td>\n",
       "      <td>2</td>\n",
       "      <td>1999-10-28</td>\n",
       "      <td>a,f,c</td>\n",
       "      <td>ccc:2,ddd:0,aaa:3,hhh:9</td>\n",
       "    </tr>\n",
       "    <tr>\n",
       "      <th>2</th>\n",
       "      <td>B</td>\n",
       "      <td>5</td>\n",
       "      <td>1998-05-02</td>\n",
       "      <td>f,e,a,c</td>\n",
       "      <td>ddd:2,ggg:5,ccc:6,jjj:1</td>\n",
       "    </tr>\n",
       "    <tr>\n",
       "      <th>3</th>\n",
       "      <td>A</td>\n",
       "      <td>3</td>\n",
       "      <td>1999-08-28</td>\n",
       "      <td>a,b</td>\n",
       "      <td>hhh:9,iii:5,eee:7,bbb:1</td>\n",
       "    </tr>\n",
       "    <tr>\n",
       "      <th>4</th>\n",
       "      <td>C</td>\n",
       "      <td>6</td>\n",
       "      <td>1999-12-01</td>\n",
       "      <td>f,g,d,a</td>\n",
       "      <td>iii:6,ddd:5,eee:4,jjj:3</td>\n",
       "    </tr>\n",
       "    <tr>\n",
       "      <th>5</th>\n",
       "      <td>A</td>\n",
       "      <td>7</td>\n",
       "      <td>1998-07-28</td>\n",
       "      <td>c,d</td>\n",
       "      <td>bbb:2,hhh:0,ccc:4,fff:1,aaa:7</td>\n",
       "    </tr>\n",
       "    <tr>\n",
       "      <th>6</th>\n",
       "      <td>A</td>\n",
       "      <td>9</td>\n",
       "      <td>1997-02-28</td>\n",
       "      <td>g,d,a</td>\n",
       "      <td>aaa:5,fff:8,ddd:2,iii:0,jjj:7,ccc:1</td>\n",
       "    </tr>\n",
       "    <tr>\n",
       "      <th>7</th>\n",
       "      <td>B</td>\n",
       "      <td>1</td>\n",
       "      <td>1999-05-10</td>\n",
       "      <td>b,a</td>\n",
       "      <td>fff:3,hhh:1,ddd:2</td>\n",
       "    </tr>\n",
       "    <tr>\n",
       "      <th>8</th>\n",
       "      <td>E</td>\n",
       "      <td>2</td>\n",
       "      <td>1997-04-12</td>\n",
       "      <td>d,e,a,f</td>\n",
       "      <td>eee:4,ccc:5,iii:9,fff:7,ggg:6,bbb:0</td>\n",
       "    </tr>\n",
       "    <tr>\n",
       "      <th>9</th>\n",
       "      <td>B</td>\n",
       "      <td>3</td>\n",
       "      <td>1999-11-23</td>\n",
       "      <td>d,b,g,f</td>\n",
       "      <td>bbb:7,jjj:9,fff:5,iii:4,ggg:2,eee:3</td>\n",
       "    </tr>\n",
       "    <tr>\n",
       "      <th>10</th>\n",
       "      <td>C</td>\n",
       "      <td>7</td>\n",
       "      <td>1998-01-17</td>\n",
       "      <td>d,c,f,b</td>\n",
       "      <td>hhh:6,eee:4,iii:0,fff:2,jjj:1</td>\n",
       "    </tr>\n",
       "    <tr>\n",
       "      <th>11</th>\n",
       "      <td>C</td>\n",
       "      <td>5</td>\n",
       "      <td>1998-12-28</td>\n",
       "      <td>d,e,a,c</td>\n",
       "      <td>bbb:7,iii:6,ggg:9</td>\n",
       "    </tr>\n",
       "    <tr>\n",
       "      <th>12</th>\n",
       "      <td>D</td>\n",
       "      <td>3</td>\n",
       "      <td>1999-10-15</td>\n",
       "      <td>g,e,f,b</td>\n",
       "      <td>bbb:9,aaa:3,ccc:6,fff:4,eee:2</td>\n",
       "    </tr>\n",
       "    <tr>\n",
       "      <th>13</th>\n",
       "      <td>E</td>\n",
       "      <td>8</td>\n",
       "      <td>1998-11-01</td>\n",
       "      <td>c,f</td>\n",
       "      <td>aaa:8,ddd:5,jjj:1</td>\n",
       "    </tr>\n",
       "    <tr>\n",
       "      <th>14</th>\n",
       "      <td>B</td>\n",
       "      <td>9</td>\n",
       "      <td>1999-08-12</td>\n",
       "      <td>d,b</td>\n",
       "      <td>ccc:0,jjj:6,fff:7,ddd:3,aaa:2</td>\n",
       "    </tr>\n",
       "    <tr>\n",
       "      <th>15</th>\n",
       "      <td>D</td>\n",
       "      <td>1</td>\n",
       "      <td>1997-12-01</td>\n",
       "      <td>f,e</td>\n",
       "      <td>ccc:0,eee:6,bbb:9,ddd:3</td>\n",
       "    </tr>\n",
       "    <tr>\n",
       "      <th>16</th>\n",
       "      <td>E</td>\n",
       "      <td>3</td>\n",
       "      <td>1997-07-28</td>\n",
       "      <td>e,b,f</td>\n",
       "      <td>bbb:6,iii:3,hhh:5,fff:4,ggg:9,ddd:2</td>\n",
       "    </tr>\n",
       "    <tr>\n",
       "      <th>17</th>\n",
       "      <td>D</td>\n",
       "      <td>5</td>\n",
       "      <td>1998-08-12</td>\n",
       "      <td>g,a</td>\n",
       "      <td>hhh:4,jjj:5,ccc:9</td>\n",
       "    </tr>\n",
       "    <tr>\n",
       "      <th>18</th>\n",
       "      <td>E</td>\n",
       "      <td>8</td>\n",
       "      <td>1999-08-24</td>\n",
       "      <td>e,c,f,a</td>\n",
       "      <td>ccc:1,iii:6,fff:9</td>\n",
       "    </tr>\n",
       "    <tr>\n",
       "      <th>19</th>\n",
       "      <td>E</td>\n",
       "      <td>9</td>\n",
       "      <td>1998-01-23</td>\n",
       "      <td>e,a</td>\n",
       "      <td>bbb:9,aaa:3,fff:1</td>\n",
       "    </tr>\n",
       "    <tr>\n",
       "      <th>20</th>\n",
       "      <td>E</td>\n",
       "      <td>7</td>\n",
       "      <td>1999-06-22</td>\n",
       "      <td>e,f</td>\n",
       "      <td>ddd:9,iii:2,aaa:4</td>\n",
       "    </tr>\n",
       "    <tr>\n",
       "      <th>21</th>\n",
       "      <td>E</td>\n",
       "      <td>3</td>\n",
       "      <td>1999-04-24</td>\n",
       "      <td>c,b,g</td>\n",
       "      <td>ccc:5,fff:8,iii:7</td>\n",
       "    </tr>\n",
       "    <tr>\n",
       "      <th>22</th>\n",
       "      <td>D</td>\n",
       "      <td>5</td>\n",
       "      <td>1999-06-25</td>\n",
       "      <td>c,f,a</td>\n",
       "      <td>eee:3,jjj:2,ddd:7</td>\n",
       "    </tr>\n",
       "    <tr>\n",
       "      <th>23</th>\n",
       "      <td>A</td>\n",
       "      <td>1</td>\n",
       "      <td>1999-08-25</td>\n",
       "      <td>f,a,d</td>\n",
       "      <td>jjj:1,ggg:0,ccc:7,ddd:9,bbb:3</td>\n",
       "    </tr>\n",
       "    <tr>\n",
       "      <th>24</th>\n",
       "      <td>E</td>\n",
       "      <td>4</td>\n",
       "      <td>1997-07-26</td>\n",
       "      <td>c,d</td>\n",
       "      <td>jjj:6,ccc:0,aaa:1,hhh:9,iii:7,ggg:8</td>\n",
       "    </tr>\n",
       "    <tr>\n",
       "      <th>25</th>\n",
       "      <td>E</td>\n",
       "      <td>6</td>\n",
       "      <td>1997-09-24</td>\n",
       "      <td>e,d,c</td>\n",
       "      <td>fff:3,eee:6,iii:4,bbb:7,ddd:0,ccc:1</td>\n",
       "    </tr>\n",
       "    <tr>\n",
       "      <th>26</th>\n",
       "      <td>A</td>\n",
       "      <td>8</td>\n",
       "      <td>1997-09-28</td>\n",
       "      <td>a,e,f</td>\n",
       "      <td>fff:0,ddd:5,ccc:4</td>\n",
       "    </tr>\n",
       "    <tr>\n",
       "      <th>27</th>\n",
       "      <td>E</td>\n",
       "      <td>5</td>\n",
       "      <td>1999-06-22</td>\n",
       "      <td>c,a,g</td>\n",
       "      <td>ggg:6,hhh:3,ddd:9,ccc:0,jjj:7</td>\n",
       "    </tr>\n",
       "    <tr>\n",
       "      <th>28</th>\n",
       "      <td>A</td>\n",
       "      <td>6</td>\n",
       "      <td>1999-07-29</td>\n",
       "      <td>f,e</td>\n",
       "      <td>hhh:6,jjj:0,eee:5,iii:7,ccc:3</td>\n",
       "    </tr>\n",
       "    <tr>\n",
       "      <th>29</th>\n",
       "      <td>C</td>\n",
       "      <td>0</td>\n",
       "      <td>1999-08-22</td>\n",
       "      <td>f,c,a,g</td>\n",
       "      <td>eee:1,fff:4,aaa:2,ccc:7,ggg:0,ddd:6</td>\n",
       "    </tr>\n",
       "    <tr>\n",
       "      <th>30</th>\n",
       "      <td>A</td>\n",
       "      <td>1</td>\n",
       "      <td>1998-04-26</td>\n",
       "      <td>b,f</td>\n",
       "      <td>ccc:6,aaa:9,eee:5,ddd:0,bbb:3</td>\n",
       "    </tr>\n",
       "    <tr>\n",
       "      <th>31</th>\n",
       "      <td>D</td>\n",
       "      <td>2</td>\n",
       "      <td>1998-02-24</td>\n",
       "      <td>b,f</td>\n",
       "      <td>bbb:7,hhh:1,aaa:6,iii:4,fff:9,ddd:5</td>\n",
       "    </tr>\n",
       "    <tr>\n",
       "      <th>32</th>\n",
       "      <td>E</td>\n",
       "      <td>5</td>\n",
       "      <td>1999-03-24</td>\n",
       "      <td>a,c</td>\n",
       "      <td>fff:3,ccc:1,ggg:2,eee:5</td>\n",
       "    </tr>\n",
       "    <tr>\n",
       "      <th>33</th>\n",
       "      <td>B</td>\n",
       "      <td>4</td>\n",
       "      <td>1998-03-23</td>\n",
       "      <td>b,f,c</td>\n",
       "      <td>iii:7,ggg:3,ddd:0,jjj:8,hhh:5,ccc:1</td>\n",
       "    </tr>\n",
       "    <tr>\n",
       "      <th>34</th>\n",
       "      <td>B</td>\n",
       "      <td>6</td>\n",
       "      <td>1999-04-21</td>\n",
       "      <td>f,a,e</td>\n",
       "      <td>hhh:6,ccc:3,jjj:0,bbb:8,ddd:7</td>\n",
       "    </tr>\n",
       "    <tr>\n",
       "      <th>35</th>\n",
       "      <td>D</td>\n",
       "      <td>7</td>\n",
       "      <td>1999-02-29</td>\n",
       "      <td>a,f</td>\n",
       "      <td>aaa:0,fff:5,ddd:3</td>\n",
       "    </tr>\n",
       "    <tr>\n",
       "      <th>36</th>\n",
       "      <td>B</td>\n",
       "      <td>8</td>\n",
       "      <td>1997-05-21</td>\n",
       "      <td>c,a</td>\n",
       "      <td>ddd:5,jjj:2,iii:7,ccc:0,bbb:4</td>\n",
       "    </tr>\n",
       "    <tr>\n",
       "      <th>37</th>\n",
       "      <td>C</td>\n",
       "      <td>9</td>\n",
       "      <td>1997-07-22</td>\n",
       "      <td>c,a,e,f</td>\n",
       "      <td>eee:0,fff:2,hhh:6</td>\n",
       "    </tr>\n",
       "    <tr>\n",
       "      <th>38</th>\n",
       "      <td>E</td>\n",
       "      <td>1</td>\n",
       "      <td>1999-09-28</td>\n",
       "      <td>e,d</td>\n",
       "      <td>fff:9,iii:2,eee:0</td>\n",
       "    </tr>\n",
       "    <tr>\n",
       "      <th>39</th>\n",
       "      <td>E</td>\n",
       "      <td>5</td>\n",
       "      <td>1998-01-26</td>\n",
       "      <td>f,a,d</td>\n",
       "      <td>hhh:8,ggg:3,jjj:5</td>\n",
       "    </tr>\n",
       "  </tbody>\n",
       "</table>\n",
       "</div>"
      ],
      "text/plain": [
       "    0  1           2        3                                    4\n",
       "0   E  1  1999-02-28    b,g,f        jjj:3,bbb:0,ddd:9,ggg:8,hhh:2\n",
       "1   A  2  1999-10-28    a,f,c              ccc:2,ddd:0,aaa:3,hhh:9\n",
       "2   B  5  1998-05-02  f,e,a,c              ddd:2,ggg:5,ccc:6,jjj:1\n",
       "3   A  3  1999-08-28      a,b              hhh:9,iii:5,eee:7,bbb:1\n",
       "4   C  6  1999-12-01  f,g,d,a              iii:6,ddd:5,eee:4,jjj:3\n",
       "5   A  7  1998-07-28      c,d        bbb:2,hhh:0,ccc:4,fff:1,aaa:7\n",
       "6   A  9  1997-02-28    g,d,a  aaa:5,fff:8,ddd:2,iii:0,jjj:7,ccc:1\n",
       "7   B  1  1999-05-10      b,a                    fff:3,hhh:1,ddd:2\n",
       "8   E  2  1997-04-12  d,e,a,f  eee:4,ccc:5,iii:9,fff:7,ggg:6,bbb:0\n",
       "9   B  3  1999-11-23  d,b,g,f  bbb:7,jjj:9,fff:5,iii:4,ggg:2,eee:3\n",
       "10  C  7  1998-01-17  d,c,f,b        hhh:6,eee:4,iii:0,fff:2,jjj:1\n",
       "11  C  5  1998-12-28  d,e,a,c                    bbb:7,iii:6,ggg:9\n",
       "12  D  3  1999-10-15  g,e,f,b        bbb:9,aaa:3,ccc:6,fff:4,eee:2\n",
       "13  E  8  1998-11-01      c,f                    aaa:8,ddd:5,jjj:1\n",
       "14  B  9  1999-08-12      d,b        ccc:0,jjj:6,fff:7,ddd:3,aaa:2\n",
       "15  D  1  1997-12-01      f,e              ccc:0,eee:6,bbb:9,ddd:3\n",
       "16  E  3  1997-07-28    e,b,f  bbb:6,iii:3,hhh:5,fff:4,ggg:9,ddd:2\n",
       "17  D  5  1998-08-12      g,a                    hhh:4,jjj:5,ccc:9\n",
       "18  E  8  1999-08-24  e,c,f,a                    ccc:1,iii:6,fff:9\n",
       "19  E  9  1998-01-23      e,a                    bbb:9,aaa:3,fff:1\n",
       "20  E  7  1999-06-22      e,f                    ddd:9,iii:2,aaa:4\n",
       "21  E  3  1999-04-24    c,b,g                    ccc:5,fff:8,iii:7\n",
       "22  D  5  1999-06-25    c,f,a                    eee:3,jjj:2,ddd:7\n",
       "23  A  1  1999-08-25    f,a,d        jjj:1,ggg:0,ccc:7,ddd:9,bbb:3\n",
       "24  E  4  1997-07-26      c,d  jjj:6,ccc:0,aaa:1,hhh:9,iii:7,ggg:8\n",
       "25  E  6  1997-09-24    e,d,c  fff:3,eee:6,iii:4,bbb:7,ddd:0,ccc:1\n",
       "26  A  8  1997-09-28    a,e,f                    fff:0,ddd:5,ccc:4\n",
       "27  E  5  1999-06-22    c,a,g        ggg:6,hhh:3,ddd:9,ccc:0,jjj:7\n",
       "28  A  6  1999-07-29      f,e        hhh:6,jjj:0,eee:5,iii:7,ccc:3\n",
       "29  C  0  1999-08-22  f,c,a,g  eee:1,fff:4,aaa:2,ccc:7,ggg:0,ddd:6\n",
       "30  A  1  1998-04-26      b,f        ccc:6,aaa:9,eee:5,ddd:0,bbb:3\n",
       "31  D  2  1998-02-24      b,f  bbb:7,hhh:1,aaa:6,iii:4,fff:9,ddd:5\n",
       "32  E  5  1999-03-24      a,c              fff:3,ccc:1,ggg:2,eee:5\n",
       "33  B  4  1998-03-23    b,f,c  iii:7,ggg:3,ddd:0,jjj:8,hhh:5,ccc:1\n",
       "34  B  6  1999-04-21    f,a,e        hhh:6,ccc:3,jjj:0,bbb:8,ddd:7\n",
       "35  D  7  1999-02-29      a,f                    aaa:0,fff:5,ddd:3\n",
       "36  B  8  1997-05-21      c,a        ddd:5,jjj:2,iii:7,ccc:0,bbb:4\n",
       "37  C  9  1997-07-22  c,a,e,f                    eee:0,fff:2,hhh:6\n",
       "38  E  1  1999-09-28      e,d                    fff:9,iii:2,eee:0\n",
       "39  E  5  1998-01-26    f,a,d                    hhh:8,ggg:3,jjj:5"
      ]
     },
     "execution_count": 170,
     "metadata": {},
     "output_type": "execute_result"
    }
   ],
   "source": [
    "base"
   ]
  },
  {
   "cell_type": "markdown",
   "metadata": {},
   "source": [
    "# Q01"
   ]
  },
  {
   "cell_type": "code",
   "execution_count": 171,
   "metadata": {},
   "outputs": [],
   "source": [
    "## Imprima la suma de la segunda columna."
   ]
  },
  {
   "cell_type": "code",
   "execution_count": 172,
   "metadata": {},
   "outputs": [
    {
     "name": "stdout",
     "output_type": "stream",
     "text": [
      "190\n"
     ]
    }
   ],
   "source": [
    "import pandas\n",
    "base = pandas.read_csv(\"data.csv\", sep=\"\\t\", header=None)\n",
    "q01 = base[1].sum()\n",
    "print(q01)"
   ]
  },
  {
   "cell_type": "markdown",
   "metadata": {},
   "source": [
    "# Q02"
   ]
  },
  {
   "cell_type": "code",
   "execution_count": 173,
   "metadata": {},
   "outputs": [],
   "source": [
    "## Imprima la cantidad de registros por letra para la \n",
    "## primera columna, ordenados alfabeticamente."
   ]
  },
  {
   "cell_type": "code",
   "execution_count": 174,
   "metadata": {},
   "outputs": [
    {
     "data": {
      "text/html": [
       "<div>\n",
       "<style scoped>\n",
       "    .dataframe tbody tr th:only-of-type {\n",
       "        vertical-align: middle;\n",
       "    }\n",
       "\n",
       "    .dataframe tbody tr th {\n",
       "        vertical-align: top;\n",
       "    }\n",
       "\n",
       "    .dataframe thead th {\n",
       "        text-align: right;\n",
       "    }\n",
       "</style>\n",
       "<table border=\"1\" class=\"dataframe\">\n",
       "  <thead>\n",
       "    <tr style=\"text-align: right;\">\n",
       "      <th></th>\n",
       "      <th>0</th>\n",
       "      <th>1</th>\n",
       "      <th>2</th>\n",
       "      <th>3</th>\n",
       "      <th>4</th>\n",
       "    </tr>\n",
       "  </thead>\n",
       "  <tbody>\n",
       "    <tr>\n",
       "      <th>0</th>\n",
       "      <td>E</td>\n",
       "      <td>1</td>\n",
       "      <td>1999-02-28</td>\n",
       "      <td>b,g,f</td>\n",
       "      <td>jjj:3,bbb:0,ddd:9,ggg:8,hhh:2</td>\n",
       "    </tr>\n",
       "    <tr>\n",
       "      <th>1</th>\n",
       "      <td>A</td>\n",
       "      <td>2</td>\n",
       "      <td>1999-10-28</td>\n",
       "      <td>a,f,c</td>\n",
       "      <td>ccc:2,ddd:0,aaa:3,hhh:9</td>\n",
       "    </tr>\n",
       "    <tr>\n",
       "      <th>2</th>\n",
       "      <td>B</td>\n",
       "      <td>5</td>\n",
       "      <td>1998-05-02</td>\n",
       "      <td>f,e,a,c</td>\n",
       "      <td>ddd:2,ggg:5,ccc:6,jjj:1</td>\n",
       "    </tr>\n",
       "    <tr>\n",
       "      <th>3</th>\n",
       "      <td>A</td>\n",
       "      <td>3</td>\n",
       "      <td>1999-08-28</td>\n",
       "      <td>a,b</td>\n",
       "      <td>hhh:9,iii:5,eee:7,bbb:1</td>\n",
       "    </tr>\n",
       "    <tr>\n",
       "      <th>4</th>\n",
       "      <td>C</td>\n",
       "      <td>6</td>\n",
       "      <td>1999-12-01</td>\n",
       "      <td>f,g,d,a</td>\n",
       "      <td>iii:6,ddd:5,eee:4,jjj:3</td>\n",
       "    </tr>\n",
       "  </tbody>\n",
       "</table>\n",
       "</div>"
      ],
      "text/plain": [
       "   0  1           2        3                              4\n",
       "0  E  1  1999-02-28    b,g,f  jjj:3,bbb:0,ddd:9,ggg:8,hhh:2\n",
       "1  A  2  1999-10-28    a,f,c        ccc:2,ddd:0,aaa:3,hhh:9\n",
       "2  B  5  1998-05-02  f,e,a,c        ddd:2,ggg:5,ccc:6,jjj:1\n",
       "3  A  3  1999-08-28      a,b        hhh:9,iii:5,eee:7,bbb:1\n",
       "4  C  6  1999-12-01  f,g,d,a        iii:6,ddd:5,eee:4,jjj:3"
      ]
     },
     "execution_count": 174,
     "metadata": {},
     "output_type": "execute_result"
    }
   ],
   "source": [
    "import pandas\n",
    "base = pandas.read_csv(\"data.csv\", sep=\"\\t\", header=None)\n",
    "base.head()"
   ]
  },
  {
   "cell_type": "code",
   "execution_count": 175,
   "metadata": {},
   "outputs": [],
   "source": [
    "q02list = list(base[0])"
   ]
  },
  {
   "cell_type": "code",
   "execution_count": 176,
   "metadata": {},
   "outputs": [
    {
     "data": {
      "text/plain": [
       "['E',\n",
       " 'A',\n",
       " 'B',\n",
       " 'A',\n",
       " 'C',\n",
       " 'A',\n",
       " 'A',\n",
       " 'B',\n",
       " 'E',\n",
       " 'B',\n",
       " 'C',\n",
       " 'C',\n",
       " 'D',\n",
       " 'E',\n",
       " 'B',\n",
       " 'D',\n",
       " 'E',\n",
       " 'D',\n",
       " 'E',\n",
       " 'E',\n",
       " 'E',\n",
       " 'E',\n",
       " 'D',\n",
       " 'A',\n",
       " 'E',\n",
       " 'E',\n",
       " 'A',\n",
       " 'E',\n",
       " 'A',\n",
       " 'C',\n",
       " 'A',\n",
       " 'D',\n",
       " 'E',\n",
       " 'B',\n",
       " 'B',\n",
       " 'D',\n",
       " 'B',\n",
       " 'C',\n",
       " 'E',\n",
       " 'E']"
      ]
     },
     "execution_count": 176,
     "metadata": {},
     "output_type": "execute_result"
    }
   ],
   "source": [
    "q02list"
   ]
  },
  {
   "cell_type": "code",
   "execution_count": 177,
   "metadata": {},
   "outputs": [],
   "source": [
    "uniqueletters = set(q02list)"
   ]
  },
  {
   "cell_type": "code",
   "execution_count": 178,
   "metadata": {},
   "outputs": [
    {
     "data": {
      "text/plain": [
       "{'A', 'B', 'C', 'D', 'E'}"
      ]
     },
     "execution_count": 178,
     "metadata": {},
     "output_type": "execute_result"
    }
   ],
   "source": [
    "uniqueletters"
   ]
  },
  {
   "cell_type": "code",
   "execution_count": 179,
   "metadata": {},
   "outputs": [
    {
     "data": {
      "text/plain": [
       "[('A', 8), ('B', 7), ('C', 5), ('D', 6), ('E', 14)]"
      ]
     },
     "execution_count": 179,
     "metadata": {},
     "output_type": "execute_result"
    }
   ],
   "source": [
    "q02c = [(l, q02list.count(l)) for l in sorted(uniqueletters)]\n",
    "q02c"
   ]
  },
  {
   "cell_type": "code",
   "execution_count": 180,
   "metadata": {},
   "outputs": [
    {
     "data": {
      "text/plain": [
       "'A'"
      ]
     },
     "execution_count": 180,
     "metadata": {},
     "output_type": "execute_result"
    }
   ],
   "source": [
    "q02c[0][0]"
   ]
  },
  {
   "cell_type": "code",
   "execution_count": 181,
   "metadata": {},
   "outputs": [
    {
     "name": "stdout",
     "output_type": "stream",
     "text": [
      "A,8\n",
      "B,7\n",
      "C,5\n",
      "D,6\n",
      "E,14\n"
     ]
    }
   ],
   "source": [
    "for i in range(5):\n",
    "    print(q02c[i][0],q02c[i][1], sep=',')"
   ]
  },
  {
   "cell_type": "markdown",
   "metadata": {},
   "source": [
    "# Q03"
   ]
  },
  {
   "cell_type": "code",
   "execution_count": 182,
   "metadata": {},
   "outputs": [],
   "source": [
    "## Imprima la suma de la columna 2 por cada letra de la \n",
    "## primera columna, ordneados alfabeticamente."
   ]
  },
  {
   "cell_type": "code",
   "execution_count": 183,
   "metadata": {},
   "outputs": [
    {
     "data": {
      "text/html": [
       "<div>\n",
       "<style scoped>\n",
       "    .dataframe tbody tr th:only-of-type {\n",
       "        vertical-align: middle;\n",
       "    }\n",
       "\n",
       "    .dataframe tbody tr th {\n",
       "        vertical-align: top;\n",
       "    }\n",
       "\n",
       "    .dataframe thead th {\n",
       "        text-align: right;\n",
       "    }\n",
       "</style>\n",
       "<table border=\"1\" class=\"dataframe\">\n",
       "  <thead>\n",
       "    <tr style=\"text-align: right;\">\n",
       "      <th></th>\n",
       "      <th>0</th>\n",
       "      <th>1</th>\n",
       "      <th>2</th>\n",
       "      <th>3</th>\n",
       "      <th>4</th>\n",
       "    </tr>\n",
       "  </thead>\n",
       "  <tbody>\n",
       "    <tr>\n",
       "      <th>0</th>\n",
       "      <td>E</td>\n",
       "      <td>1</td>\n",
       "      <td>1999-02-28</td>\n",
       "      <td>b,g,f</td>\n",
       "      <td>jjj:3,bbb:0,ddd:9,ggg:8,hhh:2</td>\n",
       "    </tr>\n",
       "  </tbody>\n",
       "</table>\n",
       "</div>"
      ],
      "text/plain": [
       "   0  1           2      3                              4\n",
       "0  E  1  1999-02-28  b,g,f  jjj:3,bbb:0,ddd:9,ggg:8,hhh:2"
      ]
     },
     "execution_count": 183,
     "metadata": {},
     "output_type": "execute_result"
    }
   ],
   "source": [
    "import pandas\n",
    "base = pandas.read_csv(\"data.csv\", sep=\"\\t\", header=None)\n",
    "base.head(1)"
   ]
  },
  {
   "cell_type": "code",
   "execution_count": 184,
   "metadata": {},
   "outputs": [],
   "source": [
    "q03c = base.groupby(0).sum()[1]"
   ]
  },
  {
   "cell_type": "code",
   "execution_count": 185,
   "metadata": {},
   "outputs": [
    {
     "name": "stdout",
     "output_type": "stream",
     "text": [
      "0\n",
      "A    37\n",
      "B    36\n",
      "C    27\n",
      "D    23\n",
      "E    67\n",
      "Name: 1, dtype: int64\n"
     ]
    }
   ],
   "source": [
    "print(q03c)"
   ]
  },
  {
   "cell_type": "code",
   "execution_count": 186,
   "metadata": {},
   "outputs": [],
   "source": [
    "q03l = list(q03c)"
   ]
  },
  {
   "cell_type": "code",
   "execution_count": 187,
   "metadata": {},
   "outputs": [],
   "source": [
    "ul = list(uniqueletters)"
   ]
  },
  {
   "cell_type": "code",
   "execution_count": 188,
   "metadata": {},
   "outputs": [],
   "source": [
    "letters = sorted(uniqueletters)"
   ]
  },
  {
   "cell_type": "code",
   "execution_count": 189,
   "metadata": {},
   "outputs": [
    {
     "data": {
      "text/plain": [
       "[37, 36, 27, 23, 67]"
      ]
     },
     "execution_count": 189,
     "metadata": {},
     "output_type": "execute_result"
    }
   ],
   "source": [
    "q03l"
   ]
  },
  {
   "cell_type": "code",
   "execution_count": 190,
   "metadata": {},
   "outputs": [
    {
     "data": {
      "text/plain": [
       "['A', 'B', 'C', 'D', 'E']"
      ]
     },
     "execution_count": 190,
     "metadata": {},
     "output_type": "execute_result"
    }
   ],
   "source": [
    "letters"
   ]
  },
  {
   "cell_type": "code",
   "execution_count": 191,
   "metadata": {},
   "outputs": [
    {
     "name": "stdout",
     "output_type": "stream",
     "text": [
      "A,37\n",
      "B,36\n",
      "C,27\n",
      "D,23\n",
      "E,67\n"
     ]
    }
   ],
   "source": [
    "for i in range(5):\n",
    "    print(letters[i], q03l[i], sep=',')"
   ]
  },
  {
   "cell_type": "markdown",
   "metadata": {},
   "source": [
    "# Q04"
   ]
  },
  {
   "cell_type": "code",
   "execution_count": 6,
   "metadata": {},
   "outputs": [
    {
     "data": {
      "text/html": [
       "<div>\n",
       "<style scoped>\n",
       "    .dataframe tbody tr th:only-of-type {\n",
       "        vertical-align: middle;\n",
       "    }\n",
       "\n",
       "    .dataframe tbody tr th {\n",
       "        vertical-align: top;\n",
       "    }\n",
       "\n",
       "    .dataframe thead th {\n",
       "        text-align: right;\n",
       "    }\n",
       "</style>\n",
       "<table border=\"1\" class=\"dataframe\">\n",
       "  <thead>\n",
       "    <tr style=\"text-align: right;\">\n",
       "      <th></th>\n",
       "      <th>0</th>\n",
       "      <th>1</th>\n",
       "      <th>2</th>\n",
       "      <th>3</th>\n",
       "      <th>4</th>\n",
       "    </tr>\n",
       "  </thead>\n",
       "  <tbody>\n",
       "    <tr>\n",
       "      <th>0</th>\n",
       "      <td>E</td>\n",
       "      <td>1</td>\n",
       "      <td>1999-02-28</td>\n",
       "      <td>b,g,f</td>\n",
       "      <td>jjj:3,bbb:0,ddd:9,ggg:8,hhh:2</td>\n",
       "    </tr>\n",
       "  </tbody>\n",
       "</table>\n",
       "</div>"
      ],
      "text/plain": [
       "   0  1           2      3                              4\n",
       "0  E  1  1999-02-28  b,g,f  jjj:3,bbb:0,ddd:9,ggg:8,hhh:2"
      ]
     },
     "execution_count": 6,
     "metadata": {},
     "output_type": "execute_result"
    }
   ],
   "source": [
    "## Imprima la cantidad de registros por cada mes.\n",
    "import pandas\n",
    "base = pandas.read_csv(\"data.csv\", sep=\"\\t\", header=None)\n",
    "base.head(1)"
   ]
  },
  {
   "cell_type": "code",
   "execution_count": 7,
   "metadata": {},
   "outputs": [],
   "source": [
    "import datetime"
   ]
  },
  {
   "cell_type": "code",
   "execution_count": 8,
   "metadata": {},
   "outputs": [],
   "source": [
    "base[2] = pandas.to_datetime(base[2], errors='ignore')"
   ]
  },
  {
   "cell_type": "code",
   "execution_count": 9,
   "metadata": {},
   "outputs": [
    {
     "data": {
      "text/plain": [
       "<pandas.core.indexes.accessors.DatetimeProperties object at 0x7fe2950fbe48>"
      ]
     },
     "execution_count": 9,
     "metadata": {},
     "output_type": "execute_result"
    }
   ],
   "source": [
    "base[2].dt"
   ]
  },
  {
   "cell_type": "code",
   "execution_count": 10,
   "metadata": {},
   "outputs": [],
   "source": [
    "base['mes'] = base[2].dt.month"
   ]
  },
  {
   "cell_type": "code",
   "execution_count": 11,
   "metadata": {},
   "outputs": [
    {
     "data": {
      "text/html": [
       "<div>\n",
       "<style scoped>\n",
       "    .dataframe tbody tr th:only-of-type {\n",
       "        vertical-align: middle;\n",
       "    }\n",
       "\n",
       "    .dataframe tbody tr th {\n",
       "        vertical-align: top;\n",
       "    }\n",
       "\n",
       "    .dataframe thead th {\n",
       "        text-align: right;\n",
       "    }\n",
       "</style>\n",
       "<table border=\"1\" class=\"dataframe\">\n",
       "  <thead>\n",
       "    <tr style=\"text-align: right;\">\n",
       "      <th></th>\n",
       "      <th>0</th>\n",
       "      <th>1</th>\n",
       "      <th>2</th>\n",
       "      <th>3</th>\n",
       "      <th>4</th>\n",
       "      <th>mes</th>\n",
       "    </tr>\n",
       "  </thead>\n",
       "  <tbody>\n",
       "    <tr>\n",
       "      <th>0</th>\n",
       "      <td>E</td>\n",
       "      <td>1</td>\n",
       "      <td>1999-02-28</td>\n",
       "      <td>b,g,f</td>\n",
       "      <td>jjj:3,bbb:0,ddd:9,ggg:8,hhh:2</td>\n",
       "      <td>2</td>\n",
       "    </tr>\n",
       "    <tr>\n",
       "      <th>1</th>\n",
       "      <td>A</td>\n",
       "      <td>2</td>\n",
       "      <td>1999-10-28</td>\n",
       "      <td>a,f,c</td>\n",
       "      <td>ccc:2,ddd:0,aaa:3,hhh:9</td>\n",
       "      <td>10</td>\n",
       "    </tr>\n",
       "    <tr>\n",
       "      <th>2</th>\n",
       "      <td>B</td>\n",
       "      <td>5</td>\n",
       "      <td>1998-05-02</td>\n",
       "      <td>f,e,a,c</td>\n",
       "      <td>ddd:2,ggg:5,ccc:6,jjj:1</td>\n",
       "      <td>5</td>\n",
       "    </tr>\n",
       "    <tr>\n",
       "      <th>3</th>\n",
       "      <td>A</td>\n",
       "      <td>3</td>\n",
       "      <td>1999-08-28</td>\n",
       "      <td>a,b</td>\n",
       "      <td>hhh:9,iii:5,eee:7,bbb:1</td>\n",
       "      <td>8</td>\n",
       "    </tr>\n",
       "    <tr>\n",
       "      <th>4</th>\n",
       "      <td>C</td>\n",
       "      <td>6</td>\n",
       "      <td>1999-12-01</td>\n",
       "      <td>f,g,d,a</td>\n",
       "      <td>iii:6,ddd:5,eee:4,jjj:3</td>\n",
       "      <td>12</td>\n",
       "    </tr>\n",
       "  </tbody>\n",
       "</table>\n",
       "</div>"
      ],
      "text/plain": [
       "   0  1          2        3                              4  mes\n",
       "0  E  1 1999-02-28    b,g,f  jjj:3,bbb:0,ddd:9,ggg:8,hhh:2    2\n",
       "1  A  2 1999-10-28    a,f,c        ccc:2,ddd:0,aaa:3,hhh:9   10\n",
       "2  B  5 1998-05-02  f,e,a,c        ddd:2,ggg:5,ccc:6,jjj:1    5\n",
       "3  A  3 1999-08-28      a,b        hhh:9,iii:5,eee:7,bbb:1    8\n",
       "4  C  6 1999-12-01  f,g,d,a        iii:6,ddd:5,eee:4,jjj:3   12"
      ]
     },
     "execution_count": 11,
     "metadata": {},
     "output_type": "execute_result"
    }
   ],
   "source": [
    "base.head()"
   ]
  },
  {
   "cell_type": "code",
   "execution_count": 12,
   "metadata": {},
   "outputs": [],
   "source": [
    "base1 = base.groupby('mes')[1].count()"
   ]
  },
  {
   "cell_type": "code",
   "execution_count": 13,
   "metadata": {},
   "outputs": [
    {
     "name": "stdout",
     "output_type": "stream",
     "text": [
      "mes\n",
      "1     3\n",
      "2     4\n",
      "3     2\n",
      "4     4\n",
      "5     3\n",
      "6     3\n",
      "7     5\n",
      "8     6\n",
      "9     3\n",
      "10    2\n",
      "11    2\n",
      "12    3\n",
      "Name: 1, dtype: int64\n"
     ]
    }
   ],
   "source": [
    "print(base1)"
   ]
  },
  {
   "cell_type": "code",
   "execution_count": 14,
   "metadata": {},
   "outputs": [
    {
     "name": "stdout",
     "output_type": "stream",
     "text": [
      "mes\n",
      "1     3\n",
      "2     4\n",
      "3     2\n",
      "4     4\n",
      "5     3\n",
      "6     3\n",
      "7     5\n",
      "8     6\n",
      "9     3\n",
      "10    2\n",
      "11    2\n",
      "12    3\n",
      "Name: 1, dtype: int64\n"
     ]
    }
   ],
   "source": [
    "%run q04.py"
   ]
  },
  {
   "cell_type": "markdown",
   "metadata": {},
   "source": [
    "# Q05"
   ]
  },
  {
   "cell_type": "code",
   "execution_count": 194,
   "metadata": {},
   "outputs": [],
   "source": [
    "#Imprima el valor maximo y minimo por cada letra de la columa 1.\n",
    "import pandas\n",
    "base = pandas.read_csv(\"data.csv\", sep=\"\\t\", header=None)"
   ]
  },
  {
   "cell_type": "code",
   "execution_count": 195,
   "metadata": {},
   "outputs": [
    {
     "data": {
      "text/plain": [
       "0\n",
       "A    9\n",
       "B    9\n",
       "C    9\n",
       "D    7\n",
       "E    9\n",
       "Name: 1, dtype: int64"
      ]
     },
     "execution_count": 195,
     "metadata": {},
     "output_type": "execute_result"
    }
   ],
   "source": [
    "q051 = base.groupby(0).max()[1]\n",
    "q051"
   ]
  },
  {
   "cell_type": "code",
   "execution_count": 196,
   "metadata": {},
   "outputs": [
    {
     "data": {
      "text/plain": [
       "0\n",
       "A    1\n",
       "B    1\n",
       "C    0\n",
       "D    1\n",
       "E    1\n",
       "Name: 1, dtype: int64"
      ]
     },
     "execution_count": 196,
     "metadata": {},
     "output_type": "execute_result"
    }
   ],
   "source": [
    "q052 = base.groupby(0).min()[1]\n",
    "q052"
   ]
  },
  {
   "cell_type": "code",
   "execution_count": 197,
   "metadata": {},
   "outputs": [],
   "source": [
    "q051l = list(q051)\n",
    "q052l = list(q052)"
   ]
  },
  {
   "cell_type": "code",
   "execution_count": 198,
   "metadata": {},
   "outputs": [],
   "source": [
    "q02list = list(base[0])\n",
    "uniqueletters = set(q02list)\n",
    "ul = list(uniqueletters)\n",
    "letters = sorted(uniqueletters)"
   ]
  },
  {
   "cell_type": "code",
   "execution_count": 199,
   "metadata": {},
   "outputs": [
    {
     "name": "stdout",
     "output_type": "stream",
     "text": [
      "A,9,1\n",
      "B,9,1\n",
      "C,9,0\n",
      "D,7,1\n",
      "E,9,1\n"
     ]
    }
   ],
   "source": [
    "for i in range(5):\n",
    "    print(letters[i], q051l[i], q052l[i], sep=',')"
   ]
  },
  {
   "cell_type": "markdown",
   "metadata": {},
   "source": [
    "# Q06"
   ]
  },
  {
   "cell_type": "code",
   "execution_count": 62,
   "metadata": {},
   "outputs": [],
   "source": [
    "## Por cada clave de la columna 5 (cadena de tres letras), obtenga\n",
    "## el valor mas pequeño y el valor mas grande asociado a esa clave.\n",
    "import pandas\n",
    "base = pandas.read_csv(\"data.csv\", sep=\"\\t\", header=None)"
   ]
  },
  {
   "cell_type": "code",
   "execution_count": 63,
   "metadata": {},
   "outputs": [
    {
     "data": {
      "text/html": [
       "<div>\n",
       "<style scoped>\n",
       "    .dataframe tbody tr th:only-of-type {\n",
       "        vertical-align: middle;\n",
       "    }\n",
       "\n",
       "    .dataframe tbody tr th {\n",
       "        vertical-align: top;\n",
       "    }\n",
       "\n",
       "    .dataframe thead th {\n",
       "        text-align: right;\n",
       "    }\n",
       "</style>\n",
       "<table border=\"1\" class=\"dataframe\">\n",
       "  <thead>\n",
       "    <tr style=\"text-align: right;\">\n",
       "      <th></th>\n",
       "      <th>0</th>\n",
       "      <th>1</th>\n",
       "      <th>2</th>\n",
       "      <th>3</th>\n",
       "      <th>4</th>\n",
       "    </tr>\n",
       "  </thead>\n",
       "  <tbody>\n",
       "    <tr>\n",
       "      <th>0</th>\n",
       "      <td>E</td>\n",
       "      <td>1</td>\n",
       "      <td>1999-02-28</td>\n",
       "      <td>b,g,f</td>\n",
       "      <td>jjj:3,bbb:0,ddd:9,ggg:8,hhh:2</td>\n",
       "    </tr>\n",
       "  </tbody>\n",
       "</table>\n",
       "</div>"
      ],
      "text/plain": [
       "   0  1           2      3                              4\n",
       "0  E  1  1999-02-28  b,g,f  jjj:3,bbb:0,ddd:9,ggg:8,hhh:2"
      ]
     },
     "execution_count": 63,
     "metadata": {},
     "output_type": "execute_result"
    }
   ],
   "source": [
    "base.head(1)"
   ]
  },
  {
   "cell_type": "code",
   "execution_count": 64,
   "metadata": {},
   "outputs": [],
   "source": [
    "base1 = base[4].apply(lambda x: pandas.Series(x.split(','))) #Separo los elementos de la columna"
   ]
  },
  {
   "cell_type": "code",
   "execution_count": 87,
   "metadata": {},
   "outputs": [
    {
     "data": {
      "text/html": [
       "<div>\n",
       "<style scoped>\n",
       "    .dataframe tbody tr th:only-of-type {\n",
       "        vertical-align: middle;\n",
       "    }\n",
       "\n",
       "    .dataframe tbody tr th {\n",
       "        vertical-align: top;\n",
       "    }\n",
       "\n",
       "    .dataframe thead th {\n",
       "        text-align: right;\n",
       "    }\n",
       "</style>\n",
       "<table border=\"1\" class=\"dataframe\">\n",
       "  <thead>\n",
       "    <tr style=\"text-align: right;\">\n",
       "      <th></th>\n",
       "      <th>0</th>\n",
       "      <th>1</th>\n",
       "      <th>2</th>\n",
       "      <th>3</th>\n",
       "      <th>4</th>\n",
       "      <th>5</th>\n",
       "    </tr>\n",
       "  </thead>\n",
       "  <tbody>\n",
       "    <tr>\n",
       "      <th>0</th>\n",
       "      <td>jjj:3</td>\n",
       "      <td>bbb:0</td>\n",
       "      <td>ddd:9</td>\n",
       "      <td>ggg:8</td>\n",
       "      <td>hhh:2</td>\n",
       "      <td>NaN</td>\n",
       "    </tr>\n",
       "    <tr>\n",
       "      <th>1</th>\n",
       "      <td>ccc:2</td>\n",
       "      <td>ddd:0</td>\n",
       "      <td>aaa:3</td>\n",
       "      <td>hhh:9</td>\n",
       "      <td>NaN</td>\n",
       "      <td>NaN</td>\n",
       "    </tr>\n",
       "    <tr>\n",
       "      <th>2</th>\n",
       "      <td>ddd:2</td>\n",
       "      <td>ggg:5</td>\n",
       "      <td>ccc:6</td>\n",
       "      <td>jjj:1</td>\n",
       "      <td>NaN</td>\n",
       "      <td>NaN</td>\n",
       "    </tr>\n",
       "    <tr>\n",
       "      <th>3</th>\n",
       "      <td>hhh:9</td>\n",
       "      <td>iii:5</td>\n",
       "      <td>eee:7</td>\n",
       "      <td>bbb:1</td>\n",
       "      <td>NaN</td>\n",
       "      <td>NaN</td>\n",
       "    </tr>\n",
       "    <tr>\n",
       "      <th>4</th>\n",
       "      <td>iii:6</td>\n",
       "      <td>ddd:5</td>\n",
       "      <td>eee:4</td>\n",
       "      <td>jjj:3</td>\n",
       "      <td>NaN</td>\n",
       "      <td>NaN</td>\n",
       "    </tr>\n",
       "  </tbody>\n",
       "</table>\n",
       "</div>"
      ],
      "text/plain": [
       "       0      1      2      3      4    5\n",
       "0  jjj:3  bbb:0  ddd:9  ggg:8  hhh:2  NaN\n",
       "1  ccc:2  ddd:0  aaa:3  hhh:9    NaN  NaN\n",
       "2  ddd:2  ggg:5  ccc:6  jjj:1    NaN  NaN\n",
       "3  hhh:9  iii:5  eee:7  bbb:1    NaN  NaN\n",
       "4  iii:6  ddd:5  eee:4  jjj:3    NaN  NaN"
      ]
     },
     "execution_count": 87,
     "metadata": {},
     "output_type": "execute_result"
    }
   ],
   "source": [
    "base1.head()"
   ]
  },
  {
   "cell_type": "code",
   "execution_count": 66,
   "metadata": {},
   "outputs": [],
   "source": [
    "#Sacar cada columna por separado eliminando los NaN\n",
    "base10 = base1[0].dropna()\n",
    "base11 = base1[1].dropna()\n",
    "base12 = base1[2].dropna()\n",
    "base13 = base1[3].dropna()\n",
    "base14 = base1[4].dropna()\n",
    "base15 = base1[5].dropna()"
   ]
  },
  {
   "cell_type": "code",
   "execution_count": 67,
   "metadata": {},
   "outputs": [],
   "source": [
    "base100 = list(base10)\n",
    "base111 = list(base11)\n",
    "base122 = list(base12)\n",
    "base133 = list(base13)\n",
    "base144 = list(base14)\n",
    "base155 = list(base15)"
   ]
  },
  {
   "cell_type": "code",
   "execution_count": 69,
   "metadata": {},
   "outputs": [],
   "source": [
    "#Concatenar las lista\n",
    "baselistas = base100+base111+base122+base133+base144+base155"
   ]
  },
  {
   "cell_type": "code",
   "execution_count": 71,
   "metadata": {},
   "outputs": [],
   "source": [
    "#Convertir lista completa a dataframe\n",
    "basedataframe = pandas.DataFrame({'col':baselistas})"
   ]
  },
  {
   "cell_type": "code",
   "execution_count": 82,
   "metadata": {},
   "outputs": [
    {
     "data": {
      "text/html": [
       "<div>\n",
       "<style scoped>\n",
       "    .dataframe tbody tr th:only-of-type {\n",
       "        vertical-align: middle;\n",
       "    }\n",
       "\n",
       "    .dataframe tbody tr th {\n",
       "        vertical-align: top;\n",
       "    }\n",
       "\n",
       "    .dataframe thead th {\n",
       "        text-align: right;\n",
       "    }\n",
       "</style>\n",
       "<table border=\"1\" class=\"dataframe\">\n",
       "  <thead>\n",
       "    <tr style=\"text-align: right;\">\n",
       "      <th></th>\n",
       "      <th>col</th>\n",
       "    </tr>\n",
       "  </thead>\n",
       "  <tbody>\n",
       "    <tr>\n",
       "      <th>0</th>\n",
       "      <td>jjj:3</td>\n",
       "    </tr>\n",
       "    <tr>\n",
       "      <th>1</th>\n",
       "      <td>ccc:2</td>\n",
       "    </tr>\n",
       "    <tr>\n",
       "      <th>2</th>\n",
       "      <td>ddd:2</td>\n",
       "    </tr>\n",
       "    <tr>\n",
       "      <th>3</th>\n",
       "      <td>hhh:9</td>\n",
       "    </tr>\n",
       "    <tr>\n",
       "      <th>4</th>\n",
       "      <td>iii:6</td>\n",
       "    </tr>\n",
       "  </tbody>\n",
       "</table>\n",
       "</div>"
      ],
      "text/plain": [
       "     col\n",
       "0  jjj:3\n",
       "1  ccc:2\n",
       "2  ddd:2\n",
       "3  hhh:9\n",
       "4  iii:6"
      ]
     },
     "execution_count": 82,
     "metadata": {},
     "output_type": "execute_result"
    }
   ],
   "source": [
    "basedataframe.head()"
   ]
  },
  {
   "cell_type": "code",
   "execution_count": 74,
   "metadata": {},
   "outputs": [],
   "source": [
    "#Separar trio de letras y numero\n",
    "basedataframe1 = basedataframe['col'].apply(lambda x: pandas.Series(x.split(':')))"
   ]
  },
  {
   "cell_type": "code",
   "execution_count": 75,
   "metadata": {},
   "outputs": [
    {
     "data": {
      "text/html": [
       "<div>\n",
       "<style scoped>\n",
       "    .dataframe tbody tr th:only-of-type {\n",
       "        vertical-align: middle;\n",
       "    }\n",
       "\n",
       "    .dataframe tbody tr th {\n",
       "        vertical-align: top;\n",
       "    }\n",
       "\n",
       "    .dataframe thead th {\n",
       "        text-align: right;\n",
       "    }\n",
       "</style>\n",
       "<table border=\"1\" class=\"dataframe\">\n",
       "  <thead>\n",
       "    <tr style=\"text-align: right;\">\n",
       "      <th></th>\n",
       "      <th>0</th>\n",
       "      <th>1</th>\n",
       "    </tr>\n",
       "  </thead>\n",
       "  <tbody>\n",
       "    <tr>\n",
       "      <th>0</th>\n",
       "      <td>jjj</td>\n",
       "      <td>3</td>\n",
       "    </tr>\n",
       "    <tr>\n",
       "      <th>1</th>\n",
       "      <td>ccc</td>\n",
       "      <td>2</td>\n",
       "    </tr>\n",
       "  </tbody>\n",
       "</table>\n",
       "</div>"
      ],
      "text/plain": [
       "     0  1\n",
       "0  jjj  3\n",
       "1  ccc  2"
      ]
     },
     "execution_count": 75,
     "metadata": {},
     "output_type": "execute_result"
    }
   ],
   "source": [
    "basedataframe1.head(2)"
   ]
  },
  {
   "cell_type": "code",
   "execution_count": 85,
   "metadata": {},
   "outputs": [
    {
     "name": "stdout",
     "output_type": "stream",
     "text": [
      "0\n",
      "aaa    9\n",
      "bbb    9\n",
      "ccc    9\n",
      "ddd    9\n",
      "eee    7\n",
      "fff    9\n",
      "ggg    9\n",
      "hhh    9\n",
      "iii    9\n",
      "jjj    9\n",
      "Name: 1, dtype: object\n"
     ]
    }
   ],
   "source": [
    "basefinalmax = basedataframe1.groupby(0)[1].max()"
   ]
  },
  {
   "cell_type": "code",
   "execution_count": 86,
   "metadata": {},
   "outputs": [
    {
     "name": "stdout",
     "output_type": "stream",
     "text": [
      "0\n",
      "aaa    0\n",
      "bbb    0\n",
      "ccc    0\n",
      "ddd    0\n",
      "eee    0\n",
      "fff    0\n",
      "ggg    0\n",
      "hhh    0\n",
      "iii    0\n",
      "jjj    0\n",
      "Name: 1, dtype: object\n"
     ]
    }
   ],
   "source": [
    "basefinalmin = basedataframe1.groupby(0)[1].min()"
   ]
  },
  {
   "cell_type": "code",
   "execution_count": 88,
   "metadata": {},
   "outputs": [],
   "source": [
    "triolist = list(basedataframe1[0])"
   ]
  },
  {
   "cell_type": "code",
   "execution_count": 90,
   "metadata": {},
   "outputs": [
    {
     "data": {
      "text/plain": [
       "{'aaa', 'bbb', 'ccc', 'ddd', 'eee', 'fff', 'ggg', 'hhh', 'iii', 'jjj'}"
      ]
     },
     "execution_count": 90,
     "metadata": {},
     "output_type": "execute_result"
    }
   ],
   "source": [
    "triounique = set(triolist)\n",
    "triounique"
   ]
  },
  {
   "cell_type": "code",
   "execution_count": 94,
   "metadata": {},
   "outputs": [
    {
     "data": {
      "text/plain": [
       "['aaa', 'bbb', 'ccc', 'ddd', 'eee', 'fff', 'ggg', 'hhh', 'iii', 'jjj']"
      ]
     },
     "execution_count": 94,
     "metadata": {},
     "output_type": "execute_result"
    }
   ],
   "source": [
    "trio = sorted(triounique)\n",
    "trio"
   ]
  },
  {
   "cell_type": "code",
   "execution_count": 95,
   "metadata": {},
   "outputs": [],
   "source": [
    "basefinalmaxl = list(basefinalmax)\n",
    "basefinalminl = list(basefinalmin)"
   ]
  },
  {
   "cell_type": "code",
   "execution_count": 96,
   "metadata": {},
   "outputs": [
    {
     "name": "stdout",
     "output_type": "stream",
     "text": [
      "aaa,0,9\n",
      "bbb,0,9\n",
      "ccc,0,9\n",
      "ddd,0,9\n",
      "eee,0,7\n",
      "fff,0,9\n",
      "ggg,0,9\n",
      "hhh,0,9\n",
      "iii,0,9\n",
      "jjj,0,9\n"
     ]
    }
   ],
   "source": [
    "for i in range(len(trio)):\n",
    "    print(trio[i], basefinalminl[i], basefinalmaxl[i], sep=',')"
   ]
  },
  {
   "cell_type": "code",
   "execution_count": 97,
   "metadata": {},
   "outputs": [
    {
     "name": "stdout",
     "output_type": "stream",
     "text": [
      "aaa,0,9\n",
      "bbb,0,9\n",
      "ccc,0,9\n",
      "ddd,0,9\n",
      "eee,0,7\n",
      "fff,0,9\n",
      "ggg,0,9\n",
      "hhh,0,9\n",
      "iii,0,9\n",
      "jjj,0,9\n"
     ]
    }
   ],
   "source": [
    "%run q06.py"
   ]
  },
  {
   "cell_type": "markdown",
   "metadata": {},
   "source": [
    "# Q10"
   ]
  },
  {
   "cell_type": "code",
   "execution_count": null,
   "metadata": {},
   "outputs": [],
   "source": [
    "## Imprima una tabla en formato CSV que contenga por cada clave \n",
    "## de la columna 5, la correspondiente cantidad de registros \n",
    "## asociados (filas en el archivo)"
   ]
  },
  {
   "cell_type": "code",
   "execution_count": 98,
   "metadata": {},
   "outputs": [],
   "source": [
    "import pandas\n",
    "base = pandas.read_csv(\"data.csv\", sep=\"\\t\", header=None)"
   ]
  },
  {
   "cell_type": "code",
   "execution_count": 99,
   "metadata": {},
   "outputs": [
    {
     "data": {
      "text/html": [
       "<div>\n",
       "<style scoped>\n",
       "    .dataframe tbody tr th:only-of-type {\n",
       "        vertical-align: middle;\n",
       "    }\n",
       "\n",
       "    .dataframe tbody tr th {\n",
       "        vertical-align: top;\n",
       "    }\n",
       "\n",
       "    .dataframe thead th {\n",
       "        text-align: right;\n",
       "    }\n",
       "</style>\n",
       "<table border=\"1\" class=\"dataframe\">\n",
       "  <thead>\n",
       "    <tr style=\"text-align: right;\">\n",
       "      <th></th>\n",
       "      <th>0</th>\n",
       "      <th>1</th>\n",
       "      <th>2</th>\n",
       "      <th>3</th>\n",
       "      <th>4</th>\n",
       "    </tr>\n",
       "  </thead>\n",
       "  <tbody>\n",
       "    <tr>\n",
       "      <th>0</th>\n",
       "      <td>E</td>\n",
       "      <td>1</td>\n",
       "      <td>1999-02-28</td>\n",
       "      <td>b,g,f</td>\n",
       "      <td>jjj:3,bbb:0,ddd:9,ggg:8,hhh:2</td>\n",
       "    </tr>\n",
       "    <tr>\n",
       "      <th>1</th>\n",
       "      <td>A</td>\n",
       "      <td>2</td>\n",
       "      <td>1999-10-28</td>\n",
       "      <td>a,f,c</td>\n",
       "      <td>ccc:2,ddd:0,aaa:3,hhh:9</td>\n",
       "    </tr>\n",
       "    <tr>\n",
       "      <th>2</th>\n",
       "      <td>B</td>\n",
       "      <td>5</td>\n",
       "      <td>1998-05-02</td>\n",
       "      <td>f,e,a,c</td>\n",
       "      <td>ddd:2,ggg:5,ccc:6,jjj:1</td>\n",
       "    </tr>\n",
       "    <tr>\n",
       "      <th>3</th>\n",
       "      <td>A</td>\n",
       "      <td>3</td>\n",
       "      <td>1999-08-28</td>\n",
       "      <td>a,b</td>\n",
       "      <td>hhh:9,iii:5,eee:7,bbb:1</td>\n",
       "    </tr>\n",
       "    <tr>\n",
       "      <th>4</th>\n",
       "      <td>C</td>\n",
       "      <td>6</td>\n",
       "      <td>1999-12-01</td>\n",
       "      <td>f,g,d,a</td>\n",
       "      <td>iii:6,ddd:5,eee:4,jjj:3</td>\n",
       "    </tr>\n",
       "  </tbody>\n",
       "</table>\n",
       "</div>"
      ],
      "text/plain": [
       "   0  1           2        3                              4\n",
       "0  E  1  1999-02-28    b,g,f  jjj:3,bbb:0,ddd:9,ggg:8,hhh:2\n",
       "1  A  2  1999-10-28    a,f,c        ccc:2,ddd:0,aaa:3,hhh:9\n",
       "2  B  5  1998-05-02  f,e,a,c        ddd:2,ggg:5,ccc:6,jjj:1\n",
       "3  A  3  1999-08-28      a,b        hhh:9,iii:5,eee:7,bbb:1\n",
       "4  C  6  1999-12-01  f,g,d,a        iii:6,ddd:5,eee:4,jjj:3"
      ]
     },
     "execution_count": 99,
     "metadata": {},
     "output_type": "execute_result"
    }
   ],
   "source": [
    "base.head()"
   ]
  },
  {
   "cell_type": "code",
   "execution_count": 100,
   "metadata": {},
   "outputs": [],
   "source": [
    "#Separo los elementos de la columna\n",
    "base1 = base[4].apply(lambda x: pandas.Series(x.split(','))) "
   ]
  },
  {
   "cell_type": "code",
   "execution_count": 101,
   "metadata": {},
   "outputs": [],
   "source": [
    "#Sacar cada columna por separado eliminando los NaN\n",
    "base10 = base1[0].dropna()\n",
    "base11 = base1[1].dropna()\n",
    "base12 = base1[2].dropna()\n",
    "base13 = base1[3].dropna()\n",
    "base14 = base1[4].dropna()\n",
    "base15 = base1[5].dropna()\n",
    "\n",
    "base100 = list(base10)\n",
    "base111 = list(base11)\n",
    "base122 = list(base12)\n",
    "base133 = list(base13)\n",
    "base144 = list(base14)\n",
    "base155 = list(base15)\n",
    "\n",
    "#Concatenar las lista\n",
    "baselistas = base100+base111+base122+base133+base144+base155\n",
    "\n",
    "#Convertir lista completa a dataframe\n",
    "basedataframe = pandas.DataFrame({'col':baselistas})\n",
    "\n",
    "#Separar trio de letras y numero\n",
    "basedataframe1 = basedataframe['col'].apply(lambda x: pandas.Series(x.split(':')))"
   ]
  },
  {
   "cell_type": "code",
   "execution_count": 103,
   "metadata": {},
   "outputs": [
    {
     "data": {
      "text/html": [
       "<div>\n",
       "<style scoped>\n",
       "    .dataframe tbody tr th:only-of-type {\n",
       "        vertical-align: middle;\n",
       "    }\n",
       "\n",
       "    .dataframe tbody tr th {\n",
       "        vertical-align: top;\n",
       "    }\n",
       "\n",
       "    .dataframe thead th {\n",
       "        text-align: right;\n",
       "    }\n",
       "</style>\n",
       "<table border=\"1\" class=\"dataframe\">\n",
       "  <thead>\n",
       "    <tr style=\"text-align: right;\">\n",
       "      <th></th>\n",
       "      <th>0</th>\n",
       "      <th>1</th>\n",
       "    </tr>\n",
       "  </thead>\n",
       "  <tbody>\n",
       "    <tr>\n",
       "      <th>0</th>\n",
       "      <td>jjj</td>\n",
       "      <td>3</td>\n",
       "    </tr>\n",
       "    <tr>\n",
       "      <th>1</th>\n",
       "      <td>ccc</td>\n",
       "      <td>2</td>\n",
       "    </tr>\n",
       "    <tr>\n",
       "      <th>2</th>\n",
       "      <td>ddd</td>\n",
       "      <td>2</td>\n",
       "    </tr>\n",
       "    <tr>\n",
       "      <th>3</th>\n",
       "      <td>hhh</td>\n",
       "      <td>9</td>\n",
       "    </tr>\n",
       "    <tr>\n",
       "      <th>4</th>\n",
       "      <td>iii</td>\n",
       "      <td>6</td>\n",
       "    </tr>\n",
       "  </tbody>\n",
       "</table>\n",
       "</div>"
      ],
      "text/plain": [
       "     0  1\n",
       "0  jjj  3\n",
       "1  ccc  2\n",
       "2  ddd  2\n",
       "3  hhh  9\n",
       "4  iii  6"
      ]
     },
     "execution_count": 103,
     "metadata": {},
     "output_type": "execute_result"
    }
   ],
   "source": [
    "basedataframe1.head()"
   ]
  },
  {
   "cell_type": "code",
   "execution_count": 105,
   "metadata": {},
   "outputs": [],
   "source": [
    "basedataframe2 = basedataframe1.groupby(0)[1].count()"
   ]
  },
  {
   "cell_type": "code",
   "execution_count": 107,
   "metadata": {},
   "outputs": [
    {
     "name": "stdout",
     "output_type": "stream",
     "text": [
      "aaa,13\n",
      "bbb,16\n",
      "ccc,23\n",
      "ddd,23\n",
      "eee,15\n",
      "fff,20\n",
      "ggg,13\n",
      "hhh,16\n",
      "iii,18\n",
      "jjj,18\n"
     ]
    }
   ],
   "source": [
    "triolist = list(basedataframe1[0])\n",
    "triounique = set(triolist)\n",
    "trio = sorted(triounique)\n",
    "basedataframe2l = list(basedataframe2)\n",
    "\n",
    "for i in range(len(trio)):\n",
    "    print(trio[i], basedataframe2l[i], sep=',')"
   ]
  },
  {
   "cell_type": "code",
   "execution_count": 108,
   "metadata": {},
   "outputs": [
    {
     "name": "stdout",
     "output_type": "stream",
     "text": [
      "aaa,13\n",
      "bbb,16\n",
      "ccc,23\n",
      "ddd,23\n",
      "eee,15\n",
      "fff,20\n",
      "ggg,13\n",
      "hhh,16\n",
      "iii,18\n",
      "jjj,18\n"
     ]
    }
   ],
   "source": [
    "%run q10.py"
   ]
  },
  {
   "cell_type": "markdown",
   "metadata": {},
   "source": [
    "# Q11"
   ]
  },
  {
   "cell_type": "code",
   "execution_count": 109,
   "metadata": {},
   "outputs": [],
   "source": [
    "## Imprima una tabla en formato CSV que contenga por registro,\n",
    "## la cantidad de elementos de las columnas 4 y 5\n",
    "## (filas en el archivo)\n",
    "##\n",
    "## E,3,5\n",
    "## A,3,4\n",
    "## B,4,4\n",
    "## ...\n",
    "## C,4,3\n",
    "## E,2,3\n",
    "## E,3,3"
   ]
  },
  {
   "cell_type": "code",
   "execution_count": 123,
   "metadata": {},
   "outputs": [],
   "source": [
    "import pandas\n",
    "base = pandas.read_csv(\"data.csv\", sep=\"\\t\", header=None)"
   ]
  },
  {
   "cell_type": "code",
   "execution_count": 124,
   "metadata": {},
   "outputs": [
    {
     "data": {
      "text/html": [
       "<div>\n",
       "<style scoped>\n",
       "    .dataframe tbody tr th:only-of-type {\n",
       "        vertical-align: middle;\n",
       "    }\n",
       "\n",
       "    .dataframe tbody tr th {\n",
       "        vertical-align: top;\n",
       "    }\n",
       "\n",
       "    .dataframe thead th {\n",
       "        text-align: right;\n",
       "    }\n",
       "</style>\n",
       "<table border=\"1\" class=\"dataframe\">\n",
       "  <thead>\n",
       "    <tr style=\"text-align: right;\">\n",
       "      <th></th>\n",
       "      <th>0</th>\n",
       "      <th>1</th>\n",
       "      <th>2</th>\n",
       "      <th>3</th>\n",
       "      <th>4</th>\n",
       "    </tr>\n",
       "  </thead>\n",
       "  <tbody>\n",
       "    <tr>\n",
       "      <th>0</th>\n",
       "      <td>E</td>\n",
       "      <td>1</td>\n",
       "      <td>1999-02-28</td>\n",
       "      <td>b,g,f</td>\n",
       "      <td>jjj:3,bbb:0,ddd:9,ggg:8,hhh:2</td>\n",
       "    </tr>\n",
       "    <tr>\n",
       "      <th>1</th>\n",
       "      <td>A</td>\n",
       "      <td>2</td>\n",
       "      <td>1999-10-28</td>\n",
       "      <td>a,f,c</td>\n",
       "      <td>ccc:2,ddd:0,aaa:3,hhh:9</td>\n",
       "    </tr>\n",
       "    <tr>\n",
       "      <th>2</th>\n",
       "      <td>B</td>\n",
       "      <td>5</td>\n",
       "      <td>1998-05-02</td>\n",
       "      <td>f,e,a,c</td>\n",
       "      <td>ddd:2,ggg:5,ccc:6,jjj:1</td>\n",
       "    </tr>\n",
       "    <tr>\n",
       "      <th>3</th>\n",
       "      <td>A</td>\n",
       "      <td>3</td>\n",
       "      <td>1999-08-28</td>\n",
       "      <td>a,b</td>\n",
       "      <td>hhh:9,iii:5,eee:7,bbb:1</td>\n",
       "    </tr>\n",
       "    <tr>\n",
       "      <th>4</th>\n",
       "      <td>C</td>\n",
       "      <td>6</td>\n",
       "      <td>1999-12-01</td>\n",
       "      <td>f,g,d,a</td>\n",
       "      <td>iii:6,ddd:5,eee:4,jjj:3</td>\n",
       "    </tr>\n",
       "  </tbody>\n",
       "</table>\n",
       "</div>"
      ],
      "text/plain": [
       "   0  1           2        3                              4\n",
       "0  E  1  1999-02-28    b,g,f  jjj:3,bbb:0,ddd:9,ggg:8,hhh:2\n",
       "1  A  2  1999-10-28    a,f,c        ccc:2,ddd:0,aaa:3,hhh:9\n",
       "2  B  5  1998-05-02  f,e,a,c        ddd:2,ggg:5,ccc:6,jjj:1\n",
       "3  A  3  1999-08-28      a,b        hhh:9,iii:5,eee:7,bbb:1\n",
       "4  C  6  1999-12-01  f,g,d,a        iii:6,ddd:5,eee:4,jjj:3"
      ]
     },
     "execution_count": 124,
     "metadata": {},
     "output_type": "execute_result"
    }
   ],
   "source": [
    "base.head()"
   ]
  },
  {
   "cell_type": "code",
   "execution_count": 137,
   "metadata": {},
   "outputs": [],
   "source": [
    "#Contar los registros de los campos 3 y 4 separados por ,\n",
    "base['count3'] = base[3].str.split(\",\").str.len()\n",
    "base['count4'] = base[4].str.split(\",\").str.len()"
   ]
  },
  {
   "cell_type": "code",
   "execution_count": 129,
   "metadata": {},
   "outputs": [
    {
     "data": {
      "text/html": [
       "<div>\n",
       "<style scoped>\n",
       "    .dataframe tbody tr th:only-of-type {\n",
       "        vertical-align: middle;\n",
       "    }\n",
       "\n",
       "    .dataframe tbody tr th {\n",
       "        vertical-align: top;\n",
       "    }\n",
       "\n",
       "    .dataframe thead th {\n",
       "        text-align: right;\n",
       "    }\n",
       "</style>\n",
       "<table border=\"1\" class=\"dataframe\">\n",
       "  <thead>\n",
       "    <tr style=\"text-align: right;\">\n",
       "      <th></th>\n",
       "      <th>0</th>\n",
       "      <th>1</th>\n",
       "      <th>2</th>\n",
       "      <th>3</th>\n",
       "      <th>4</th>\n",
       "      <th>count3</th>\n",
       "      <th>count4</th>\n",
       "    </tr>\n",
       "  </thead>\n",
       "  <tbody>\n",
       "    <tr>\n",
       "      <th>0</th>\n",
       "      <td>E</td>\n",
       "      <td>1</td>\n",
       "      <td>1999-02-28</td>\n",
       "      <td>b,g,f</td>\n",
       "      <td>jjj:3,bbb:0,ddd:9,ggg:8,hhh:2</td>\n",
       "      <td>3</td>\n",
       "      <td>5</td>\n",
       "    </tr>\n",
       "    <tr>\n",
       "      <th>1</th>\n",
       "      <td>A</td>\n",
       "      <td>2</td>\n",
       "      <td>1999-10-28</td>\n",
       "      <td>a,f,c</td>\n",
       "      <td>ccc:2,ddd:0,aaa:3,hhh:9</td>\n",
       "      <td>3</td>\n",
       "      <td>4</td>\n",
       "    </tr>\n",
       "    <tr>\n",
       "      <th>2</th>\n",
       "      <td>B</td>\n",
       "      <td>5</td>\n",
       "      <td>1998-05-02</td>\n",
       "      <td>f,e,a,c</td>\n",
       "      <td>ddd:2,ggg:5,ccc:6,jjj:1</td>\n",
       "      <td>4</td>\n",
       "      <td>4</td>\n",
       "    </tr>\n",
       "    <tr>\n",
       "      <th>3</th>\n",
       "      <td>A</td>\n",
       "      <td>3</td>\n",
       "      <td>1999-08-28</td>\n",
       "      <td>a,b</td>\n",
       "      <td>hhh:9,iii:5,eee:7,bbb:1</td>\n",
       "      <td>2</td>\n",
       "      <td>4</td>\n",
       "    </tr>\n",
       "    <tr>\n",
       "      <th>4</th>\n",
       "      <td>C</td>\n",
       "      <td>6</td>\n",
       "      <td>1999-12-01</td>\n",
       "      <td>f,g,d,a</td>\n",
       "      <td>iii:6,ddd:5,eee:4,jjj:3</td>\n",
       "      <td>4</td>\n",
       "      <td>4</td>\n",
       "    </tr>\n",
       "  </tbody>\n",
       "</table>\n",
       "</div>"
      ],
      "text/plain": [
       "   0  1           2        3                              4  count3  count4\n",
       "0  E  1  1999-02-28    b,g,f  jjj:3,bbb:0,ddd:9,ggg:8,hhh:2       3       5\n",
       "1  A  2  1999-10-28    a,f,c        ccc:2,ddd:0,aaa:3,hhh:9       3       4\n",
       "2  B  5  1998-05-02  f,e,a,c        ddd:2,ggg:5,ccc:6,jjj:1       4       4\n",
       "3  A  3  1999-08-28      a,b        hhh:9,iii:5,eee:7,bbb:1       2       4\n",
       "4  C  6  1999-12-01  f,g,d,a        iii:6,ddd:5,eee:4,jjj:3       4       4"
      ]
     },
     "execution_count": 129,
     "metadata": {},
     "output_type": "execute_result"
    }
   ],
   "source": [
    "base.head()"
   ]
  },
  {
   "cell_type": "code",
   "execution_count": 133,
   "metadata": {},
   "outputs": [],
   "source": [
    "basefinal = base[[0,'count3','count4']]"
   ]
  },
  {
   "cell_type": "code",
   "execution_count": 136,
   "metadata": {},
   "outputs": [
    {
     "name": "stdout",
     "output_type": "stream",
     "text": [
      "    0  count3  count4\n",
      "0   E       3       5\n",
      "1   A       3       4\n",
      "2   B       4       4\n",
      "3   A       2       4\n",
      "4   C       4       4\n",
      "5   A       2       5\n",
      "6   A       3       6\n",
      "7   B       2       3\n",
      "8   E       4       6\n",
      "9   B       4       6\n",
      "10  C       4       5\n",
      "11  C       4       3\n",
      "12  D       4       5\n",
      "13  E       2       3\n",
      "14  B       2       5\n",
      "15  D       2       4\n",
      "16  E       3       6\n",
      "17  D       2       3\n",
      "18  E       4       3\n",
      "19  E       2       3\n",
      "20  E       2       3\n",
      "21  E       3       3\n",
      "22  D       3       3\n",
      "23  A       3       5\n",
      "24  E       2       6\n",
      "25  E       3       6\n",
      "26  A       3       3\n",
      "27  E       3       5\n",
      "28  A       2       5\n",
      "29  C       4       6\n",
      "30  A       2       5\n",
      "31  D       2       6\n",
      "32  E       2       4\n",
      "33  B       3       6\n",
      "34  B       3       5\n",
      "35  D       2       3\n",
      "36  B       2       5\n",
      "37  C       4       3\n",
      "38  E       2       3\n",
      "39  E       3       3\n"
     ]
    }
   ],
   "source": [
    "print(basefinal)"
   ]
  },
  {
   "cell_type": "code",
   "execution_count": 138,
   "metadata": {},
   "outputs": [
    {
     "name": "stdout",
     "output_type": "stream",
     "text": [
      "    0  count3  count4\n",
      "0   E       3       5\n",
      "1   A       3       4\n",
      "2   B       4       4\n",
      "3   A       2       4\n",
      "4   C       4       4\n",
      "5   A       2       5\n",
      "6   A       3       6\n",
      "7   B       2       3\n",
      "8   E       4       6\n",
      "9   B       4       6\n",
      "10  C       4       5\n",
      "11  C       4       3\n",
      "12  D       4       5\n",
      "13  E       2       3\n",
      "14  B       2       5\n",
      "15  D       2       4\n",
      "16  E       3       6\n",
      "17  D       2       3\n",
      "18  E       4       3\n",
      "19  E       2       3\n",
      "20  E       2       3\n",
      "21  E       3       3\n",
      "22  D       3       3\n",
      "23  A       3       5\n",
      "24  E       2       6\n",
      "25  E       3       6\n",
      "26  A       3       3\n",
      "27  E       3       5\n",
      "28  A       2       5\n",
      "29  C       4       6\n",
      "30  A       2       5\n",
      "31  D       2       6\n",
      "32  E       2       4\n",
      "33  B       3       6\n",
      "34  B       3       5\n",
      "35  D       2       3\n",
      "36  B       2       5\n",
      "37  C       4       3\n",
      "38  E       2       3\n",
      "39  E       3       3\n"
     ]
    }
   ],
   "source": [
    "%run q11.py"
   ]
  },
  {
   "cell_type": "markdown",
   "metadata": {},
   "source": [
    "# Q12"
   ]
  },
  {
   "cell_type": "code",
   "execution_count": 139,
   "metadata": {},
   "outputs": [],
   "source": [
    "## Imprima la suma de la columna 2 por cada letra \n",
    "## de la columna 4, ordnados alfabeticamente.\n",
    "##\n",
    "## a,114\n",
    "## b,40\n",
    "## c,91\n",
    "## d,65\n",
    "## e,79\n",
    "## f,110\n",
    "## g,35"
   ]
  },
  {
   "cell_type": "code",
   "execution_count": 140,
   "metadata": {},
   "outputs": [
    {
     "data": {
      "text/html": [
       "<div>\n",
       "<style scoped>\n",
       "    .dataframe tbody tr th:only-of-type {\n",
       "        vertical-align: middle;\n",
       "    }\n",
       "\n",
       "    .dataframe tbody tr th {\n",
       "        vertical-align: top;\n",
       "    }\n",
       "\n",
       "    .dataframe thead th {\n",
       "        text-align: right;\n",
       "    }\n",
       "</style>\n",
       "<table border=\"1\" class=\"dataframe\">\n",
       "  <thead>\n",
       "    <tr style=\"text-align: right;\">\n",
       "      <th></th>\n",
       "      <th>0</th>\n",
       "      <th>1</th>\n",
       "      <th>2</th>\n",
       "      <th>3</th>\n",
       "      <th>4</th>\n",
       "    </tr>\n",
       "  </thead>\n",
       "  <tbody>\n",
       "    <tr>\n",
       "      <th>0</th>\n",
       "      <td>E</td>\n",
       "      <td>1</td>\n",
       "      <td>1999-02-28</td>\n",
       "      <td>b,g,f</td>\n",
       "      <td>jjj:3,bbb:0,ddd:9,ggg:8,hhh:2</td>\n",
       "    </tr>\n",
       "    <tr>\n",
       "      <th>1</th>\n",
       "      <td>A</td>\n",
       "      <td>2</td>\n",
       "      <td>1999-10-28</td>\n",
       "      <td>a,f,c</td>\n",
       "      <td>ccc:2,ddd:0,aaa:3,hhh:9</td>\n",
       "    </tr>\n",
       "    <tr>\n",
       "      <th>2</th>\n",
       "      <td>B</td>\n",
       "      <td>5</td>\n",
       "      <td>1998-05-02</td>\n",
       "      <td>f,e,a,c</td>\n",
       "      <td>ddd:2,ggg:5,ccc:6,jjj:1</td>\n",
       "    </tr>\n",
       "    <tr>\n",
       "      <th>3</th>\n",
       "      <td>A</td>\n",
       "      <td>3</td>\n",
       "      <td>1999-08-28</td>\n",
       "      <td>a,b</td>\n",
       "      <td>hhh:9,iii:5,eee:7,bbb:1</td>\n",
       "    </tr>\n",
       "    <tr>\n",
       "      <th>4</th>\n",
       "      <td>C</td>\n",
       "      <td>6</td>\n",
       "      <td>1999-12-01</td>\n",
       "      <td>f,g,d,a</td>\n",
       "      <td>iii:6,ddd:5,eee:4,jjj:3</td>\n",
       "    </tr>\n",
       "  </tbody>\n",
       "</table>\n",
       "</div>"
      ],
      "text/plain": [
       "   0  1           2        3                              4\n",
       "0  E  1  1999-02-28    b,g,f  jjj:3,bbb:0,ddd:9,ggg:8,hhh:2\n",
       "1  A  2  1999-10-28    a,f,c        ccc:2,ddd:0,aaa:3,hhh:9\n",
       "2  B  5  1998-05-02  f,e,a,c        ddd:2,ggg:5,ccc:6,jjj:1\n",
       "3  A  3  1999-08-28      a,b        hhh:9,iii:5,eee:7,bbb:1\n",
       "4  C  6  1999-12-01  f,g,d,a        iii:6,ddd:5,eee:4,jjj:3"
      ]
     },
     "execution_count": 140,
     "metadata": {},
     "output_type": "execute_result"
    }
   ],
   "source": [
    "import pandas\n",
    "base = pandas.read_csv(\"data.csv\", sep=\"\\t\", header=None)\n",
    "base.head()"
   ]
  },
  {
   "cell_type": "code",
   "execution_count": null,
   "metadata": {},
   "outputs": [],
   "source": []
  }
 ],
 "metadata": {
  "kernelspec": {
   "display_name": "Python 3",
   "language": "python",
   "name": "python3"
  },
  "language_info": {
   "codemirror_mode": {
    "name": "ipython",
    "version": 3
   },
   "file_extension": ".py",
   "mimetype": "text/x-python",
   "name": "python",
   "nbconvert_exporter": "python",
   "pygments_lexer": "ipython3",
   "version": "3.6.7"
  }
 },
 "nbformat": 4,
 "nbformat_minor": 2
}
